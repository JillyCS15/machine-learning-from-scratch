{
 "cells": [
  {
   "cell_type": "code",
   "execution_count": 1,
   "metadata": {},
   "outputs": [],
   "source": [
    "import numpy as np\n",
    "import pandas as pd\n",
    "from matplotlib import pyplot as plt\n",
    "\n",
    "from random import seed\n",
    "from random import randrange\n",
    "\n",
    "seed(10)"
   ]
  },
  {
   "cell_type": "code",
   "execution_count": null,
   "metadata": {},
   "outputs": [],
   "source": [
    "class LogisticRegression:\n",
    "    def __init__(self, lr=0.01, num_iter=100000, fit_intercept=True):\n",
    "        self.lr = lr\n",
    "        self.num_iter = num_iter\n",
    "        self.fit_intercept = fit_intercept\n",
    "        self.w = []\n",
    "        self.history = []\n",
    "\n",
    "    def __add_intercept(self, X):\n",
    "        # add column with the value of 1 for model intercept\n",
    "        intercept = np.ones((X.shape[0], 1))\n",
    "        return np.concatenate((intercept, X), axis=1)\n",
    "\n",
    "    # Compute sigmoid function\n",
    "    def __sigmoid(self, z):\n",
    "      return 1 / (1 + np.exp(-z))\n",
    "\n",
    "    # Compute the cost/lost function\n",
    "    def __loss(self, h, y):\n",
    "        return (-y * np.log(h) - (1 - y) * np.log(1 - h)).mean()\n",
    "\n",
    "    # Check for convergence\n",
    "    def __is_convergen(history_cost, error=1e-5):\n",
    "        termination_condition = False\n",
    "        if len(history_cost) >= 2:\n",
    "            termination_condition = np.linalg.norm(history_cost[-1] - history_cost[-2]) < error\n",
    "        return termination_condition\n",
    "    \n",
    "    def fit(self, X, y):\n",
    "        '''Build a logistic regression model from the training set (X, y)'''\n",
    "        # check for intercept needed\n",
    "        if self.fit_intercept:\n",
    "            X = self.__add_intercept(X)\n",
    "\n",
    "        # variable preparation\n",
    "        n_samples, n_features = X.shape\n",
    "\n",
    "        # weight initialization\n",
    "        self.w = np.ones(n_features)\n",
    "        \n",
    "        for _ in range(self.num_iter):\n",
    "            z = np.dot(X, self.w)\n",
    "            h = self.__sigmoid(z)\n",
    "\n",
    "            # note the loss value to the history\n",
    "            self.history.append(self.__loss(h, y))\n",
    "\n",
    "            # calculate the gradient and update the weights\n",
    "            gradient = np.dot(X.T, (y - h)) / y.size\n",
    "            self.w += self.lr * gradient\n",
    "\n",
    "    def predict_proba(self, X):\n",
    "        '''Predict class probabilities of the input samples X'''\n",
    "        if self.fit_intercept:\n",
    "            X = self.__add_intercept(X)\n",
    "\n",
    "        return self.__sigmoid(np.dot(X, self.w))\n",
    "\n",
    "    def predict(self, X, threshold=0.5): # default threshold adalah 0.5\n",
    "        '''Predict class value for X'''\n",
    "        return self.predict_proba(X) >= threshold"
   ]
  }
 ],
 "metadata": {
  "interpreter": {
   "hash": "ad31790de7a47c34e5e40d8bf2afb32c11d5ec85874f198ae8d8cf6b6b937162"
  },
  "kernelspec": {
   "display_name": "Python 3.9.7 64-bit ('base': conda)",
   "language": "python",
   "name": "python3"
  },
  "language_info": {
   "codemirror_mode": {
    "name": "ipython",
    "version": 3
   },
   "file_extension": ".py",
   "mimetype": "text/x-python",
   "name": "python",
   "nbconvert_exporter": "python",
   "pygments_lexer": "ipython3",
   "version": "3.9.7"
  },
  "orig_nbformat": 4
 },
 "nbformat": 4,
 "nbformat_minor": 2
}
