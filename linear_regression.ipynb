{
 "cells": [
  {
   "cell_type": "code",
   "execution_count": 1,
   "metadata": {},
   "outputs": [],
   "source": [
    "import numpy as np\n",
    "import pandas as pd\n",
    "from matplotlib import pyplot as plt\n",
    "\n",
    "from random import seed\n",
    "from random import randrange\n",
    "\n",
    "seed(10)"
   ]
  },
  {
   "cell_type": "code",
   "execution_count": 2,
   "metadata": {},
   "outputs": [],
   "source": [
    "def is_similar(X, Y):\n",
    "    if isinstance(X, list) and isinstance(Y, list):\n",
    "        if len(X) == len(Y):\n",
    "            return all([is_similar(x,Y[i]) for i,x in enumerate(X)])\n",
    "        else:\n",
    "            return False\n",
    "    return abs(X-Y) <= 1e-7"
   ]
  },
  {
   "cell_type": "markdown",
   "metadata": {},
   "source": [
    "#### Hypothesis Function"
   ]
  },
  {
   "cell_type": "markdown",
   "metadata": {},
   "source": [
    "$$ h(x) = w^Tx $$"
   ]
  },
  {
   "cell_type": "code",
   "execution_count": 15,
   "metadata": {},
   "outputs": [],
   "source": [
    "def h(x):\n",
    "    global w\n",
    "    return np.matmul (x, w)"
   ]
  },
  {
   "cell_type": "code",
   "execution_count": 16,
   "metadata": {},
   "outputs": [],
   "source": [
    "# code ini digunakan untuk memeriksa apakah fungsi h yang Anda implementasikan sudah sesuai\n",
    "w, x = [10,11,12], [9,8,7]\n",
    "assert is_similar(h(x),262)\n",
    "\n",
    "w, x = [-3,-6,-3], [1,6,9]\n",
    "assert is_similar(h(x),-66)"
   ]
  },
  {
   "cell_type": "markdown",
   "metadata": {},
   "source": [
    "#### Linear Cost/Loss Function"
   ]
  },
  {
   "cell_type": "markdown",
   "metadata": {},
   "source": [
    "$$J(w) = \\frac{1}{2}\\sum_{i=1}^m (h_w(x^{(i)}) - y^{(i)})^2 $$"
   ]
  },
  {
   "cell_type": "code",
   "execution_count": 31,
   "metadata": {},
   "outputs": [],
   "source": [
    "def cost_func_linreg(X, y):\n",
    "    m = len(y)\n",
    "    cost = 0\n",
    "    for i in range(m):\n",
    "      cost += np.power(h(X[i]) - y[i], 2)\n",
    "    return cost / 2"
   ]
  },
  {
   "cell_type": "code",
   "execution_count": 32,
   "metadata": {},
   "outputs": [],
   "source": [
    "# code ini digunakan untuk memeriksa apakah cost function yang Anda implementasikan sudah sesuai\n",
    "w, X, y = [-1, 0], [[1,1],[0,1]], [-1,0]\n",
    "assert is_similar(cost_func_linreg(X,y),0)\n",
    "\n",
    "w, X, y = [1, 1, 2], [[1,1,1],[0,0,0]], [0,0]\n",
    "assert is_similar(cost_func_linreg(X,y),8)"
   ]
  },
  {
   "cell_type": "markdown",
   "metadata": {},
   "source": [
    "#### Optimization with Stochastic Gradient Descent (SGD)"
   ]
  },
  {
   "cell_type": "markdown",
   "metadata": {},
   "source": [
    "$$w_j = w_j + \\alpha(y^{(i)} - h_w(x^{(i)}))x_j^{(i)}$$"
   ]
  },
  {
   "cell_type": "code",
   "execution_count": 23,
   "metadata": {},
   "outputs": [],
   "source": [
    "def SGD(X, y, lr=1e-4):\n",
    "    global w\n",
    "    alpha, m = lr, len(y)\n",
    "    for row in range(m):\n",
    "        for col in range(len(w)):\n",
    "            w[col] += alpha * (y[row] - h(X[row])) * X[row][col]\n",
    "    return w"
   ]
  },
  {
   "cell_type": "code",
   "execution_count": 24,
   "metadata": {},
   "outputs": [],
   "source": [
    "# code ini digunakan untuk memeriksa apakah fungsi SGD yang Anda implementasikan sudah sesuai\n",
    "w, X, y = [-1, 0], [[1,2],[0,1]], [-1,0]\n",
    "assert is_similar(SGD(X,y),[-1.0, 0.0])\n",
    "\n",
    "w, X, y = [1, 1, 2], [[1,1,1],[0,0,0]], [0,0]\n",
    "assert is_similar(SGD(X,y),[0.9996, 0.99960004, 1.999600079996])"
   ]
  },
  {
   "cell_type": "markdown",
   "metadata": {},
   "source": [
    "#### Convergence"
   ]
  },
  {
   "cell_type": "code",
   "execution_count": 33,
   "metadata": {},
   "outputs": [],
   "source": [
    "def is_convergen(history_cost, error=1e-5):\n",
    "    termination_condition = False\n",
    "    # check delta cost from the history\n",
    "    if len(history_cost) >= 2:\n",
    "        termination_condition = np.linalg.norm(history_cost[-1] - history_cost[-2]) < error\n",
    "    return termination_condition"
   ]
  },
  {
   "cell_type": "code",
   "execution_count": 12,
   "metadata": {},
   "outputs": [
    {
     "ename": "NameError",
     "evalue": "name 'data' is not defined",
     "output_type": "error",
     "traceback": [
      "\u001b[1;31m---------------------------------------------------------------------------\u001b[0m",
      "\u001b[1;31mNameError\u001b[0m                                 Traceback (most recent call last)",
      "\u001b[1;32m~\\AppData\\Local\\Temp/ipykernel_10724/29091578.py\u001b[0m in \u001b[0;36m<module>\u001b[1;34m\u001b[0m\n\u001b[0;32m      1\u001b[0m \u001b[1;31m# PLAYGROUND\u001b[0m\u001b[1;33m\u001b[0m\u001b[1;33m\u001b[0m\u001b[0m\n\u001b[0;32m      2\u001b[0m \u001b[1;31m# you can do anything here as long as not adding any new import\u001b[0m\u001b[1;33m\u001b[0m\u001b[1;33m\u001b[0m\u001b[0m\n\u001b[1;32m----> 3\u001b[1;33m \u001b[0mfeatures\u001b[0m \u001b[1;33m=\u001b[0m \u001b[0mdata\u001b[0m\u001b[1;33m.\u001b[0m\u001b[0miloc\u001b[0m\u001b[1;33m[\u001b[0m\u001b[1;33m:\u001b[0m\u001b[1;33m,\u001b[0m\u001b[1;33m:\u001b[0m\u001b[1;36m8\u001b[0m\u001b[1;33m]\u001b[0m\u001b[1;33m.\u001b[0m\u001b[0mcopy\u001b[0m\u001b[1;33m(\u001b[0m\u001b[1;33m)\u001b[0m\u001b[1;33m.\u001b[0m\u001b[0mvalues\u001b[0m\u001b[1;33m\u001b[0m\u001b[1;33m\u001b[0m\u001b[0m\n\u001b[0m\u001b[0;32m      4\u001b[0m \u001b[1;31m# copy variabel target yang sesuai\u001b[0m\u001b[1;33m\u001b[0m\u001b[1;33m\u001b[0m\u001b[0m\n\u001b[0;32m      5\u001b[0m \u001b[0mtarget\u001b[0m \u001b[1;33m=\u001b[0m \u001b[0mage\u001b[0m\u001b[1;33m.\u001b[0m\u001b[0mcopy\u001b[0m\u001b[1;33m(\u001b[0m\u001b[1;33m)\u001b[0m\u001b[1;33m\u001b[0m\u001b[1;33m\u001b[0m\u001b[0m\n",
      "\u001b[1;31mNameError\u001b[0m: name 'data' is not defined"
     ]
    }
   ],
   "source": [
    "# PLAYGROUND\n",
    "# you can do anything here as long as not adding any new import\n",
    "features = data.iloc[:,:8].copy().values\n",
    "# copy variabel target yang sesuai\n",
    "target = age.copy()\n",
    "target = target.values\n",
    "w = [1, 1, 1, 1, 1, 1, 1, 1]\n",
    "\n",
    "history = []\n",
    "print('cost func before', cost_func_linreg(features, target))\n",
    "print('weight before', w)\n",
    "\n",
    "number_of_iteration = 0\n",
    "\n",
    "# bagian ini dapat anda modifikasi sesuai dengan fungsi is_convergen yang telah dibuat di atas\n",
    "while not is_convergen(history, 1):\n",
    "    history.append(cost_func_linreg(features, target)) \n",
    "    w = SGD(features, target, lr=0.001)\n",
    "    number_of_iteration += 1\n",
    "\n",
    "print('cost func after ' + str(number_of_iteration) + ' iteration ' + str(cost_func_linreg(features, target)))\n",
    "print('weight after ' + str(number_of_iteration) + ' iteration ' + str(w))\n",
    "\n",
    "print('\\ncost/loss func plot')\n",
    "plt.figure(figsize=(10,5))\n",
    "plt.plot(history)\n",
    "plt.xlabel('number of iteration')\n",
    "plt.ylabel('loss')\n",
    "plt.grid(True)\n",
    "plt.show()"
   ]
  },
  {
   "cell_type": "code",
   "execution_count": null,
   "metadata": {},
   "outputs": [],
   "source": [
    "class LinearRegression:\n",
    "    def __init__(self, lr=1e-4, max_iter=100000):\n",
    "        self.lr = lr\n",
    "        self.max_iter = max_iter\n",
    "        self.w = []\n",
    "        self.b = 0\n",
    "        self.history = []\n",
    "    \n",
    "    def __h(self, x):\n",
    "        # YOUR CODE HERE\n",
    "        w_t = np.transpose(np.array(self.w))\n",
    "        return np.dot(w_t, x) + self.b\n",
    "    \n",
    "    def __cost_func_linreg(self, X, y):\n",
    "        m = len(y)\n",
    "        # YOUR CODE HERE\n",
    "        cost = 0\n",
    "        for i in range(m):\n",
    "          cost += np.power(self.__h(X[i])-y[i], 2)\n",
    "        return cost/2\n",
    "    \n",
    "    def __SGD(self, X, y, lr):\n",
    "        alpha, m = lr, len(y)\n",
    "        for i in range(m):\n",
    "          # YOUR CODE HERE\n",
    "          for j in range(len(self.w)):\n",
    "              self.w[j] += alpha * (y[i] - self.__h(X[i])) * X[i][j]\n",
    "          # dw = np.dot(X.T, (y[i] - self.__h(X[i]))\n",
    "          # self.w += alpha * dw\n",
    "\n",
    "          db = np.sum(y[i] - self.__h(X[i]))\n",
    "          self.b += alpha * db\n",
    "\n",
    "\n",
    "    def __is_convergen(self, history_cost, error=1e-5):\n",
    "        termination_condition = False\n",
    "        # YOUR CODE HERE\n",
    "        if len(history_cost) >= 2:\n",
    "            termination_condition = np.linalg.norm(history_cost[-1] - history_cost[-2]) < error\n",
    "        return termination_condition\n",
    "    \n",
    "    def fit(self, X, y):\n",
    "        '''Build a linear regression model from the training set (X, y)'''\n",
    "        # YOUR CODE HERE\n",
    "        # initialization\n",
    "        n_samples, n_features = X.shape\n",
    "        features = X\n",
    "        target = y\n",
    "        number_of_iteration = 0\n",
    "        self.w = np.ones(n_features)         \n",
    "\n",
    "        # YOUR CODE HERE\n",
    "        while not self.__is_convergen(self.history, 1e-7):\n",
    "            self.history.append(self.__cost_func_linreg(features, target))\n",
    "            self.__SGD(features, target, self.lr)\n",
    "            number_of_iteration += 1    \n",
    "        \n",
    "    def predict(self, X):\n",
    "        '''Predict value for X'''\n",
    "        # YOUR CODE HERE\n",
    "        # multiply each data point to the corresponding weights\n",
    "        w_arr_t = np.transpose(np.array(self.w))\n",
    "        prediction = np.matmul(X, w_arr_t) + self.b\n",
    "        return prediction"
   ]
  }
 ],
 "metadata": {
  "kernelspec": {
   "display_name": "Python 3.9.7 ('base')",
   "language": "python",
   "name": "python3"
  },
  "language_info": {
   "codemirror_mode": {
    "name": "ipython",
    "version": 3
   },
   "file_extension": ".py",
   "mimetype": "text/x-python",
   "name": "python",
   "nbconvert_exporter": "python",
   "pygments_lexer": "ipython3",
   "version": "3.9.7"
  },
  "orig_nbformat": 4,
  "vscode": {
   "interpreter": {
    "hash": "ed0a065699908a76d1f63ea425877a01a211586d41810a3b59ee05865e07dadd"
   }
  }
 },
 "nbformat": 4,
 "nbformat_minor": 2
}
